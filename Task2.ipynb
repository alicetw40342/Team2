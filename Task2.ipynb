{
  "nbformat": 4,
  "nbformat_minor": 0,
  "metadata": {
    "colab": {
      "provenance": [],
      "authorship_tag": "ABX9TyNUKXI7U7Q3YXzCqx6FaZ67",
      "include_colab_link": true
    },
    "kernelspec": {
      "name": "python3",
      "display_name": "Python 3"
    },
    "language_info": {
      "name": "python"
    }
  },
  "cells": [
    {
      "cell_type": "markdown",
      "metadata": {
        "id": "view-in-github",
        "colab_type": "text"
      },
      "source": [
        "<a href=\"https://colab.research.google.com/github/alicetw40342/Team2/blob/main/Task2.ipynb\" target=\"_parent\"><img src=\"https://colab.research.google.com/assets/colab-badge.svg\" alt=\"Open In Colab\"/></a>"
      ]
    },
    {
      "cell_type": "code",
      "execution_count": null,
      "metadata": {
        "id": "1Gee3y5VPk-F"
      },
      "outputs": [],
      "source": []
    },
    {
      "cell_type": "markdown",
      "source": [
        "# Prompt Engineering Assignment\n",
        "\n",
        "## Platform Chosen\n",
        "I chose Gemini AI because it is user-friendly and has strong language understanding capabilities.\n",
        "\n",
        "## Environment Used\n",
        "I used Google Colab for interaction and documentation, as it requires no installation and supports both Markdown and code execution.\n",
        "\n",
        "---\n",
        "\n",
        "## Prompt Testing\n",
        "\n",
        "### Prompt 1\n",
        "**Prompt:** Please tell me about Gemini AI  \n",
        "**AI Response:**  \n",
        "Gemini is a family of multimodal AI models developed by Google. It's designed to understand and process various types of data, including text, images, audio, video, and software code, and can generate outputs in these modalities as well.\n",
        "\n",
        "---\n",
        "\n",
        "### Prompt 2\n",
        "**Prompt:** Please tell me about the major events in the technology world recently.  \n",
        "**AI Response:**  \n",
        "The technology world is currently experiencing a dynamic period, primarily driven by rapid advancements in Artificial Intelligence (AI) and its integration across various sectors. Here's a summary of major events and trends:\n",
        "\n",
        "1. The Dominance of AI:\n",
        "- Ubiquitous AI Integration\n",
        "- Generative AI Maturation\n",
        "- Emergence of \"Agentic AI\"\n",
        "- AI Hardware and Infrastructure Investments\n",
        "- AI in Specific Industries: Healthcare, Education, Manufacturing, Content Moderation\n",
        "- Ethical Concerns and Regulation\n",
        "\n",
        "2. Major Tech Company Announcements:\n",
        "- Google’s Gemini integration in Search, Pixel, Workspace\n",
        "- Apple’s AI-powered Shortcuts app coming in WWDC 2025\n",
        "- Microsoft and Nvidia’s continued AI leadership\n",
        "- E-commerce using AI for shopping agents and personalization\n",
        "- Right-to-repair and sustainability gaining traction\n",
        "- Foldable displays, 5G, and IoT expanding user experience\n",
        "\n",
        "3. Consumer Electronics Trends:\n",
        "- Smart health and beauty products\n",
        "- Smart home adoption\n",
        "- “Dumb” phone resurgence\n",
        "- Next-gen TVs with MicroLED\n",
        "- Focus on refurbished electronics\n",
        "\n",
        "In essence, AI is transforming every aspect of the tech world, from infrastructure to daily devices, while also raising ethical and social challenges.\n",
        "\n",
        "---\n",
        "\n",
        "### Prompt 3\n",
        "**Prompt:** How much is 1 + 1?  \n",
        "**AI Response:** 1 + 1 = 2\n",
        "\n",
        "---\n",
        "\n",
        "### Prompt 4\n",
        "**Prompt:** Please introduce the unique dog species in Taiwan  \n",
        "**AI Response:**  \n",
        "The Taiwan Dog, also known as the Formosan Mountain Dog, is the only indigenous dog breed in Taiwan. It dates back 10,000–20,000 years, originally used by indigenous tribes for hunting. These dogs are agile, muscular, and highly loyal. They have a triangular head, prick ears, and a sickle tail. Taiwan Dogs are intelligent, alert, and reserved with strangers. Efforts to conserve the breed have led to international recognition, such as registration under the Fédération Cynologique Internationale (FCI) Standard No. 348.\n",
        "\n",
        "---\n",
        "\n",
        "### Prompt 5\n",
        "**Prompt:** What year is today?  \n",
        "**AI Response:** Today's year is 2025.\n",
        "\n",
        "---\n",
        "\n",
        "## Reflection\n",
        "I found that clear and specific prompts lead to more accurate and relevant responses from the AI. In contrast, vague or open-ended prompts tend to receive more general or broad replies. Therefore, designing effective prompts is key to getting useful AI-generated content.\n"
      ],
      "metadata": {
        "id": "qLtCbzTSPnXn"
      }
    }
  ]
}